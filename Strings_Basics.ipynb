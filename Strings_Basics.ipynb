{
 "cells": [
  {
   "cell_type": "markdown",
   "metadata": {},
   "source": [
    "# Strings"
   ]
  },
  {
   "cell_type": "markdown",
   "metadata": {},
   "source": [
    "Strings are the combinations of characters, spaces, digits and special characters.\n",
    "A string is contained with in double or single quotation marks.\n",
    "We can assign a string to another variable.\n",
    "We can print the string  using print statement."
   ]
  },
  {
   "cell_type": "code",
   "execution_count": 2,
   "metadata": {},
   "outputs": [
    {
     "name": "stdout",
     "output_type": "stream",
     "text": [
      "Sachin Tendulkar\n",
      "Sachin Tendulkar\n"
     ]
    }
   ],
   "source": [
    "# Examples of strings\n",
    "\"Sachin Tendulkar\" # A string represented by double quotations\n",
    "'Sachin Tendulkar' # A string represented by single quotations\n",
    "\"1 2 3 4 5 6\"      # A string with digits and spaces\n",
    "'1 ! 2 @ 3 # 4 $'  # A string with special characters\n",
    "print(\"Sachin Tendulkar\") # printing a string\n",
    "a = \"Sachin Tendulkar\"    # Assigning a string to the variable \"a\" \n",
    "print(a)"
   ]
  },
  {
   "cell_type": "markdown",
   "metadata": {},
   "source": [
    "Indexing\n",
    "Negative Indexing\n",
    "Slicing\n",
    "Stride\n",
    "Concatenating\n",
    "Escape sequences\n",
    "String operations"
   ]
  },
  {
   "cell_type": "markdown",
   "metadata": {},
   "source": [
    "1. Indexing\n",
    "\n",
    "-->Think of string as an ordered sequence and the each element of the sequence can be accessed using an index represented      by the array of numbers."
   ]
  },
  {
   "attachments": {
    "strings%201.PNG": {
     "image/png": "[encoded data removed]"
    }
   },
   "cell_type": "markdown",
   "metadata": {},
   "source": [
    "![strings%201.PNG](attachment:strings%201.PNG)"
   ]
  },
  {
   "cell_type": "code",
   "execution_count": 14,
   "metadata": {},
   "outputs": [
    {
     "name": "stdout",
     "output_type": "stream",
     "text": [
      "S\n",
      "T\n",
      "r\n"
     ]
    }
   ],
   "source": [
    "Name = \"Sachin Tendulkar\" # Assinging a string to the variable\n",
    "print(Name[0])            # To print the first element of the string\n",
    "# Similarly we can print the other elements also.\n",
    "print(Name[7])            # To print the 7th element\n",
    "print(Name[15])           # To print the 15th element\n",
    "\n",
    "# Note : The indexing of the strings starts from \"0\" and not form '1'. "
   ]
  },
  {
   "cell_type": "markdown",
   "metadata": {},
   "source": [
    "2. Negative Indexing\n",
    "\n",
    "--> we can also use negative indexing with strings\n",
    "--> Negative index can help us to count the element from the end of the string\n",
    "--> The last element of string is given by the index -1"
   ]
  },
  {
   "attachments": {
    "strings%202.PNG": {
     "image/png": "[encoded data removed]"
    }
   },
   "cell_type": "markdown",
   "metadata": {},
   "source": [
    "![strings%202.PNG](attachment:strings%202.PNG)"
   ]
  },
  {
   "cell_type": "code",
   "execution_count": 18,
   "metadata": {},
   "outputs": [
    {
     "name": "stdout",
     "output_type": "stream",
     "text": [
      "r\n",
      "n\n"
     ]
    },
    {
     "data": {
      "text/plain": [
       "16"
      ]
     },
     "execution_count": 18,
     "metadata": {},
     "output_type": "execute_result"
    }
   ],
   "source": [
    "print(Name[-1]) # To print the last element of the string\n",
    "print(Name[-7]) # To print the -7 element\n",
    "\n",
    "# We can find the number of characters in the string by using the 'len' function. Shortcut for length\n",
    "len(Name)"
   ]
  },
  {
   "cell_type": "markdown",
   "metadata": {},
   "source": [
    "3. Slicing\n",
    "\n",
    "--> We can obtain the multiple characters from the string using slicing."
   ]
  },
  {
   "cell_type": "code",
   "execution_count": 26,
   "metadata": {},
   "outputs": [
    {
     "data": {
      "text/plain": [
       "'Sach'"
      ]
     },
     "execution_count": 26,
     "metadata": {},
     "output_type": "execute_result"
    }
   ],
   "source": [
    "Name[0:4] # Slicing on variable 'Name' with index \"0\" to index \"3\""
   ]
  },
  {
   "cell_type": "code",
   "execution_count": 27,
   "metadata": {},
   "outputs": [
    {
     "data": {
      "text/plain": [
       "'ulka'"
      ]
     },
     "execution_count": 27,
     "metadata": {},
     "output_type": "execute_result"
    }
   ],
   "source": [
    "Name[11:15] # Slicing on variable 'Name' with index \"11\" to \"14\""
   ]
  },
  {
   "cell_type": "markdown",
   "metadata": {},
   "source": [
    "Note : When taking the slice, the first number means the 'index'(start at \"0\"), and the second number means the 'length'          from the index to the last element you want(start with \"1\"). "
   ]
  },
  {
   "cell_type": "markdown",
   "metadata": {},
   "source": [
    "4. Stride\n",
    "\n",
    "--> We can input the stride as follows, with the '2' indicating every second character\n",
    "    \n",
    "    Name[::2] --> Sci edla\n",
    "    \n",
    "--> We can also incorporate slicing with stride"
   ]
  },
  {
   "cell_type": "code",
   "execution_count": 30,
   "metadata": {},
   "outputs": [
    {
     "data": {
      "text/plain": [
       "'Sci edla'"
      ]
     },
     "execution_count": 30,
     "metadata": {},
     "output_type": "execute_result"
    }
   ],
   "source": [
    "Name[::2]\n",
    "# Get every second element i.e is 0, 2, 4, 6..."
   ]
  },
  {
   "cell_type": "code",
   "execution_count": 31,
   "metadata": {},
   "outputs": [
    {
     "data": {
      "text/plain": [
       "'Sci'"
      ]
     },
     "execution_count": 31,
     "metadata": {},
     "output_type": "execute_result"
    }
   ],
   "source": [
    "Name[0:5:2]\n",
    "# Get every second element in the range from index \"0\" to index \"4\""
   ]
  },
  {
   "cell_type": "markdown",
   "metadata": {},
   "source": [
    "5. concatenating\n",
    "\n",
    "--> We can concatenate or combine strings by using the addition symbols which results in a new string that is a combination     of both."
   ]
  },
  {
   "cell_type": "code",
   "execution_count": 38,
   "metadata": {},
   "outputs": [
    {
     "name": "stdout",
     "output_type": "stream",
     "text": [
      "Sachin Tendulkar is the god of cricket.\n",
      "Sachin TendulkarSachin TendulkarSachin Tendulkar\n",
      "Sachin Tendulkar is the god of cricket.\n"
     ]
    }
   ],
   "source": [
    "# concatenate two strings\n",
    "Name = \"Sachin Tendulkar\"\n",
    "Statement = Name + \" is the god of cricket.\"\n",
    "print(Statement)\n",
    "\n",
    "\n",
    "# To replicate the values of a string, we simply multiply the string with the number of times we want to replicate it.\n",
    "# The result is the new string consists of copies of the original string\n",
    "print(3 * Name) # We want to print 3 copies of the original string\n",
    "\n",
    "\n",
    "# We can create the new string by setting it to the original variable.\n",
    "Name = Name + \" is the god of cricket.\"\n",
    "print(Name)\n"
   ]
  },
  {
   "cell_type": "markdown",
   "metadata": {},
   "source": [
    "6. Escape sequences\n",
    "\n",
    "--> Back slashes \"\\\" represents the beginning of the escape sequences. Escape sequences represents strings that may be         difficult to input."
   ]
  },
  {
   "cell_type": "code",
   "execution_count": 40,
   "metadata": {},
   "outputs": [
    {
     "name": "stdout",
     "output_type": "stream",
     "text": [
      " Sachin Tendulkar \n",
      " is the god of cricket.\n",
      " Sachin Tendulkar \t is the god of cricket.\n",
      " Sachin Teendulkar \\ is the god of cricket\n",
      " Sachin Tendulkar \\ is the god of cricket\n"
     ]
    }
   ],
   "source": [
    "# \\n represents a new line\n",
    "print(\" Sachin Tendulkar \\n is the god of cricket.\") # New line escape sequence\n",
    "\n",
    "# \\t represents a tab\n",
    "print(\" Sachin Tendulkar \\t is the god of cricket.\") # Tab escape sequence\n",
    "\n",
    "# If we want to place \\ in your string, we use \\\\ in the string (or) we can display as raw string by using 'r' infront of the string.\n",
    "print(\" Sachin Teendulkar \\\\ is the god of cricket\")\n",
    "\n",
    "print(r\" Sachin Tendulkar \\ is the god of cricket\")"
   ]
  },
  {
   "cell_type": "markdown",
   "metadata": {},
   "source": [
    "7. String opeations\n",
    "\n",
    "--> There are many string operation methods in python that can be used to manipulate the data. Here we are going to use         some basic string operations on the data.\n",
    "--> The method \"upper\" converts the lower case characters to the upper case characters.\n",
    "--> The method \"replace\" replaces a segment of string. i.e a substring with a new string.\n",
    "--> The method \"find\" finds a substring. The arguement is the substring that you would like to find and the output is the       first index of the sequence."
   ]
  },
  {
   "cell_type": "code",
   "execution_count": 48,
   "metadata": {},
   "outputs": [
    {
     "name": "stdout",
     "output_type": "stream",
     "text": [
      "The lower case is \n",
      " An apple a day keeps the doctor away\n",
      "The upper case is \n",
      " AN APPLE A DAY KEEPS THE DOCTOR AWAY\n",
      "Sachin is the best\n",
      "Tendulkar is the best\n",
      "3\n",
      "0\n",
      "7\n"
     ]
    }
   ],
   "source": [
    "A = \"An apple a day keeps the doctor away\"\n",
    "print(\"The lower case is \\n\", A)\n",
    "\n",
    "B = A.upper()                       # Convert all the characters in a  string to upper case.\n",
    "print(\"The upper case is \\n\",B)\n",
    "\n",
    "C = \"Sachin is the best\"\n",
    "D = C.replace(\"Sachin\",\"Tendulkar\") # 1st arguement is the substring we would like to change and 2nd arguement is what we would like to change\n",
    "print(C)\n",
    "print(D)\n",
    "\n",
    "Name = \"Sachin Tendulkar\"\n",
    "print(Name.find('hin'))             # The arguement is the substring we would like to change here we used \"hin\"\n",
    "\n",
    "print(Name.find(\"Sachin\"))\n",
    "\n",
    "print(Name.find(\"Tendulkar\"))\n"
   ]
  },
  {
   "cell_type": "markdown",
   "metadata": {},
   "source": [
    "Note : If the substring is not in the string then the output is \"-1\".\n",
    "       If the substring is repeated many times in the string, we will get the index of the first substring only by using          \"find\" method.\n",
    "       If we use \"replace\" method on a paragaraph, the new world will replace the original word (where- ever it presents)."
   ]
  },
  {
   "cell_type": "code",
   "execution_count": 52,
   "metadata": {},
   "outputs": [
    {
     "name": "stdout",
     "output_type": "stream",
     "text": [
      "11\n"
     ]
    }
   ],
   "source": [
    "X =\"The cat is in a hat and the hat is in a box.\"\n",
    "\n",
    "print(X.find(\"in\"))"
   ]
  }
 ],
 "metadata": {
  "kernelspec": {
   "display_name": "Python 3",
   "language": "python",
   "name": "python3"
  },
  "language_info": {
   "codemirror_mode": {
    "name": "ipython",
    "version": 3
   },
   "file_extension": ".py",
   "mimetype": "text/x-python",
   "name": "python",
   "nbconvert_exporter": "python",
   "pygments_lexer": "ipython3",
   "version": "3.7.3"
  }
 },
 "nbformat": 4,
 "nbformat_minor": 2
}
